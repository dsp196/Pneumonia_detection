{
  "nbformat": 4,
  "nbformat_minor": 0,
  "metadata": {
    "colab": {
      "name": "Pneumonia_Detection102.ipynb",
      "provenance": [],
      "authorship_tag": "ABX9TyOy4QWR6XkJOWyDJ7ibx8cY",
      "include_colab_link": true
    },
    "kernelspec": {
      "name": "python3",
      "display_name": "Python 3"
    },
    "language_info": {
      "name": "python"
    },
    "accelerator": "GPU"
  },
  "cells": [
    {
      "cell_type": "markdown",
      "metadata": {
        "id": "view-in-github",
        "colab_type": "text"
      },
      "source": [
        "<a href=\"https://colab.research.google.com/github/dsp196/Pneumonia_detection/blob/main/Pneumonia_Detection102.ipynb\" target=\"_parent\"><img src=\"https://colab.research.google.com/assets/colab-badge.svg\" alt=\"Open In Colab\"/></a>"
      ]
    },
    {
      "cell_type": "code",
      "metadata": {
        "colab": {
          "resources": {
            "http://localhost:8080/nbextensions/google.colab/files.js": {
              "data": "Ly8gQ29weXJpZ2h0IDIwMTcgR29vZ2xlIExMQwovLwovLyBMaWNlbnNlZCB1bmRlciB0aGUgQXBhY2hlIExpY2Vuc2UsIFZlcnNpb24gMi4wICh0aGUgIkxpY2Vuc2UiKTsKLy8geW91IG1heSBub3QgdXNlIHRoaXMgZmlsZSBleGNlcHQgaW4gY29tcGxpYW5jZSB3aXRoIHRoZSBMaWNlbnNlLgovLyBZb3UgbWF5IG9idGFpbiBhIGNvcHkgb2YgdGhlIExpY2Vuc2UgYXQKLy8KLy8gICAgICBodHRwOi8vd3d3LmFwYWNoZS5vcmcvbGljZW5zZXMvTElDRU5TRS0yLjAKLy8KLy8gVW5sZXNzIHJlcXVpcmVkIGJ5IGFwcGxpY2FibGUgbGF3IG9yIGFncmVlZCB0byBpbiB3cml0aW5nLCBzb2Z0d2FyZQovLyBkaXN0cmlidXRlZCB1bmRlciB0aGUgTGljZW5zZSBpcyBkaXN0cmlidXRlZCBvbiBhbiAiQVMgSVMiIEJBU0lTLAovLyBXSVRIT1VUIFdBUlJBTlRJRVMgT1IgQ09ORElUSU9OUyBPRiBBTlkgS0lORCwgZWl0aGVyIGV4cHJlc3Mgb3IgaW1wbGllZC4KLy8gU2VlIHRoZSBMaWNlbnNlIGZvciB0aGUgc3BlY2lmaWMgbGFuZ3VhZ2UgZ292ZXJuaW5nIHBlcm1pc3Npb25zIGFuZAovLyBsaW1pdGF0aW9ucyB1bmRlciB0aGUgTGljZW5zZS4KCi8qKgogKiBAZmlsZW92ZXJ2aWV3IEhlbHBlcnMgZm9yIGdvb2dsZS5jb2xhYiBQeXRob24gbW9kdWxlLgogKi8KKGZ1bmN0aW9uKHNjb3BlKSB7CmZ1bmN0aW9uIHNwYW4odGV4dCwgc3R5bGVBdHRyaWJ1dGVzID0ge30pIHsKICBjb25zdCBlbGVtZW50ID0gZG9jdW1lbnQuY3JlYXRlRWxlbWVudCgnc3BhbicpOwogIGVsZW1lbnQudGV4dENvbnRlbnQgPSB0ZXh0OwogIGZvciAoY29uc3Qga2V5IG9mIE9iamVjdC5rZXlzKHN0eWxlQXR0cmlidXRlcykpIHsKICAgIGVsZW1lbnQuc3R5bGVba2V5XSA9IHN0eWxlQXR0cmlidXRlc1trZXldOwogIH0KICByZXR1cm4gZWxlbWVudDsKfQoKLy8gTWF4IG51bWJlciBvZiBieXRlcyB3aGljaCB3aWxsIGJlIHVwbG9hZGVkIGF0IGEgdGltZS4KY29uc3QgTUFYX1BBWUxPQURfU0laRSA9IDEwMCAqIDEwMjQ7CgpmdW5jdGlvbiBfdXBsb2FkRmlsZXMoaW5wdXRJZCwgb3V0cHV0SWQpIHsKICBjb25zdCBzdGVwcyA9IHVwbG9hZEZpbGVzU3RlcChpbnB1dElkLCBvdXRwdXRJZCk7CiAgY29uc3Qgb3V0cHV0RWxlbWVudCA9IGRvY3VtZW50LmdldEVsZW1lbnRCeUlkKG91dHB1dElkKTsKICAvLyBDYWNoZSBzdGVwcyBvbiB0aGUgb3V0cHV0RWxlbWVudCB0byBtYWtlIGl0IGF2YWlsYWJsZSBmb3IgdGhlIG5leHQgY2FsbAogIC8vIHRvIHVwbG9hZEZpbGVzQ29udGludWUgZnJvbSBQeXRob24uCiAgb3V0cHV0RWxlbWVudC5zdGVwcyA9IHN0ZXBzOwoKICByZXR1cm4gX3VwbG9hZEZpbGVzQ29udGludWUob3V0cHV0SWQpOwp9CgovLyBUaGlzIGlzIHJvdWdobHkgYW4gYXN5bmMgZ2VuZXJhdG9yIChub3Qgc3VwcG9ydGVkIGluIHRoZSBicm93c2VyIHlldCksCi8vIHdoZXJlIHRoZXJlIGFyZSBtdWx0aXBsZSBhc3luY2hyb25vdXMgc3RlcHMgYW5kIHRoZSBQeXRob24gc2lkZSBpcyBnb2luZwovLyB0byBwb2xsIGZvciBjb21wbGV0aW9uIG9mIGVhY2ggc3RlcC4KLy8gVGhpcyB1c2VzIGEgUHJvbWlzZSB0byBibG9jayB0aGUgcHl0aG9uIHNpZGUgb24gY29tcGxldGlvbiBvZiBlYWNoIHN0ZXAsCi8vIHRoZW4gcGFzc2VzIHRoZSByZXN1bHQgb2YgdGhlIHByZXZpb3VzIHN0ZXAgYXMgdGhlIGlucHV0IHRvIHRoZSBuZXh0IHN0ZXAuCmZ1bmN0aW9uIF91cGxvYWRGaWxlc0NvbnRpbnVlKG91dHB1dElkKSB7CiAgY29uc3Qgb3V0cHV0RWxlbWVudCA9IGRvY3VtZW50LmdldEVsZW1lbnRCeUlkKG91dHB1dElkKTsKICBjb25zdCBzdGVwcyA9IG91dHB1dEVsZW1lbnQuc3RlcHM7CgogIGNvbnN0IG5leHQgPSBzdGVwcy5uZXh0KG91dHB1dEVsZW1lbnQubGFzdFByb21pc2VWYWx1ZSk7CiAgcmV0dXJuIFByb21pc2UucmVzb2x2ZShuZXh0LnZhbHVlLnByb21pc2UpLnRoZW4oKHZhbHVlKSA9PiB7CiAgICAvLyBDYWNoZSB0aGUgbGFzdCBwcm9taXNlIHZhbHVlIHRvIG1ha2UgaXQgYXZhaWxhYmxlIHRvIHRoZSBuZXh0CiAgICAvLyBzdGVwIG9mIHRoZSBnZW5lcmF0b3IuCiAgICBvdXRwdXRFbGVtZW50Lmxhc3RQcm9taXNlVmFsdWUgPSB2YWx1ZTsKICAgIHJldHVybiBuZXh0LnZhbHVlLnJlc3BvbnNlOwogIH0pOwp9CgovKioKICogR2VuZXJhdG9yIGZ1bmN0aW9uIHdoaWNoIGlzIGNhbGxlZCBiZXR3ZWVuIGVhY2ggYXN5bmMgc3RlcCBvZiB0aGUgdXBsb2FkCiAqIHByb2Nlc3MuCiAqIEBwYXJhbSB7c3RyaW5nfSBpbnB1dElkIEVsZW1lbnQgSUQgb2YgdGhlIGlucHV0IGZpbGUgcGlja2VyIGVsZW1lbnQuCiAqIEBwYXJhbSB7c3RyaW5nfSBvdXRwdXRJZCBFbGVtZW50IElEIG9mIHRoZSBvdXRwdXQgZGlzcGxheS4KICogQHJldHVybiB7IUl0ZXJhYmxlPCFPYmplY3Q+fSBJdGVyYWJsZSBvZiBuZXh0IHN0ZXBzLgogKi8KZnVuY3Rpb24qIHVwbG9hZEZpbGVzU3RlcChpbnB1dElkLCBvdXRwdXRJZCkgewogIGNvbnN0IGlucHV0RWxlbWVudCA9IGRvY3VtZW50LmdldEVsZW1lbnRCeUlkKGlucHV0SWQpOwogIGlucHV0RWxlbWVudC5kaXNhYmxlZCA9IGZhbHNlOwoKICBjb25zdCBvdXRwdXRFbGVtZW50ID0gZG9jdW1lbnQuZ2V0RWxlbWVudEJ5SWQob3V0cHV0SWQpOwogIG91dHB1dEVsZW1lbnQuaW5uZXJIVE1MID0gJyc7CgogIGNvbnN0IHBpY2tlZFByb21pc2UgPSBuZXcgUHJvbWlzZSgocmVzb2x2ZSkgPT4gewogICAgaW5wdXRFbGVtZW50LmFkZEV2ZW50TGlzdGVuZXIoJ2NoYW5nZScsIChlKSA9PiB7CiAgICAgIHJlc29sdmUoZS50YXJnZXQuZmlsZXMpOwogICAgfSk7CiAgfSk7CgogIGNvbnN0IGNhbmNlbCA9IGRvY3VtZW50LmNyZWF0ZUVsZW1lbnQoJ2J1dHRvbicpOwogIGlucHV0RWxlbWVudC5wYXJlbnRFbGVtZW50LmFwcGVuZENoaWxkKGNhbmNlbCk7CiAgY2FuY2VsLnRleHRDb250ZW50ID0gJ0NhbmNlbCB1cGxvYWQnOwogIGNvbnN0IGNhbmNlbFByb21pc2UgPSBuZXcgUHJvbWlzZSgocmVzb2x2ZSkgPT4gewogICAgY2FuY2VsLm9uY2xpY2sgPSAoKSA9PiB7CiAgICAgIHJlc29sdmUobnVsbCk7CiAgICB9OwogIH0pOwoKICAvLyBXYWl0IGZvciB0aGUgdXNlciB0byBwaWNrIHRoZSBmaWxlcy4KICBjb25zdCBmaWxlcyA9IHlpZWxkIHsKICAgIHByb21pc2U6IFByb21pc2UucmFjZShbcGlja2VkUHJvbWlzZSwgY2FuY2VsUHJvbWlzZV0pLAogICAgcmVzcG9uc2U6IHsKICAgICAgYWN0aW9uOiAnc3RhcnRpbmcnLAogICAgfQogIH07CgogIGNhbmNlbC5yZW1vdmUoKTsKCiAgLy8gRGlzYWJsZSB0aGUgaW5wdXQgZWxlbWVudCBzaW5jZSBmdXJ0aGVyIHBpY2tzIGFyZSBub3QgYWxsb3dlZC4KICBpbnB1dEVsZW1lbnQuZGlzYWJsZWQgPSB0cnVlOwoKICBpZiAoIWZpbGVzKSB7CiAgICByZXR1cm4gewogICAgICByZXNwb25zZTogewogICAgICAgIGFjdGlvbjogJ2NvbXBsZXRlJywKICAgICAgfQogICAgfTsKICB9CgogIGZvciAoY29uc3QgZmlsZSBvZiBmaWxlcykgewogICAgY29uc3QgbGkgPSBkb2N1bWVudC5jcmVhdGVFbGVtZW50KCdsaScpOwogICAgbGkuYXBwZW5kKHNwYW4oZmlsZS5uYW1lLCB7Zm9udFdlaWdodDogJ2JvbGQnfSkpOwogICAgbGkuYXBwZW5kKHNwYW4oCiAgICAgICAgYCgke2ZpbGUudHlwZSB8fCAnbi9hJ30pIC0gJHtmaWxlLnNpemV9IGJ5dGVzLCBgICsKICAgICAgICBgbGFzdCBtb2RpZmllZDogJHsKICAgICAgICAgICAgZmlsZS5sYXN0TW9kaWZpZWREYXRlID8gZmlsZS5sYXN0TW9kaWZpZWREYXRlLnRvTG9jYWxlRGF0ZVN0cmluZygpIDoKICAgICAgICAgICAgICAgICAgICAgICAgICAgICAgICAgICAgJ24vYSd9IC0gYCkpOwogICAgY29uc3QgcGVyY2VudCA9IHNwYW4oJzAlIGRvbmUnKTsKICAgIGxpLmFwcGVuZENoaWxkKHBlcmNlbnQpOwoKICAgIG91dHB1dEVsZW1lbnQuYXBwZW5kQ2hpbGQobGkpOwoKICAgIGNvbnN0IGZpbGVEYXRhUHJvbWlzZSA9IG5ldyBQcm9taXNlKChyZXNvbHZlKSA9PiB7CiAgICAgIGNvbnN0IHJlYWRlciA9IG5ldyBGaWxlUmVhZGVyKCk7CiAgICAgIHJlYWRlci5vbmxvYWQgPSAoZSkgPT4gewogICAgICAgIHJlc29sdmUoZS50YXJnZXQucmVzdWx0KTsKICAgICAgfTsKICAgICAgcmVhZGVyLnJlYWRBc0FycmF5QnVmZmVyKGZpbGUpOwogICAgfSk7CiAgICAvLyBXYWl0IGZvciB0aGUgZGF0YSB0byBiZSByZWFkeS4KICAgIGxldCBmaWxlRGF0YSA9IHlpZWxkIHsKICAgICAgcHJvbWlzZTogZmlsZURhdGFQcm9taXNlLAogICAgICByZXNwb25zZTogewogICAgICAgIGFjdGlvbjogJ2NvbnRpbnVlJywKICAgICAgfQogICAgfTsKCiAgICAvLyBVc2UgYSBjaHVua2VkIHNlbmRpbmcgdG8gYXZvaWQgbWVzc2FnZSBzaXplIGxpbWl0cy4gU2VlIGIvNjIxMTU2NjAuCiAgICBsZXQgcG9zaXRpb24gPSAwOwogICAgZG8gewogICAgICBjb25zdCBsZW5ndGggPSBNYXRoLm1pbihmaWxlRGF0YS5ieXRlTGVuZ3RoIC0gcG9zaXRpb24sIE1BWF9QQVlMT0FEX1NJWkUpOwogICAgICBjb25zdCBjaHVuayA9IG5ldyBVaW50OEFycmF5KGZpbGVEYXRhLCBwb3NpdGlvbiwgbGVuZ3RoKTsKICAgICAgcG9zaXRpb24gKz0gbGVuZ3RoOwoKICAgICAgY29uc3QgYmFzZTY0ID0gYnRvYShTdHJpbmcuZnJvbUNoYXJDb2RlLmFwcGx5KG51bGwsIGNodW5rKSk7CiAgICAgIHlpZWxkIHsKICAgICAgICByZXNwb25zZTogewogICAgICAgICAgYWN0aW9uOiAnYXBwZW5kJywKICAgICAgICAgIGZpbGU6IGZpbGUubmFtZSwKICAgICAgICAgIGRhdGE6IGJhc2U2NCwKICAgICAgICB9LAogICAgICB9OwoKICAgICAgbGV0IHBlcmNlbnREb25lID0gZmlsZURhdGEuYnl0ZUxlbmd0aCA9PT0gMCA/CiAgICAgICAgICAxMDAgOgogICAgICAgICAgTWF0aC5yb3VuZCgocG9zaXRpb24gLyBmaWxlRGF0YS5ieXRlTGVuZ3RoKSAqIDEwMCk7CiAgICAgIHBlcmNlbnQudGV4dENvbnRlbnQgPSBgJHtwZXJjZW50RG9uZX0lIGRvbmVgOwoKICAgIH0gd2hpbGUgKHBvc2l0aW9uIDwgZmlsZURhdGEuYnl0ZUxlbmd0aCk7CiAgfQoKICAvLyBBbGwgZG9uZS4KICB5aWVsZCB7CiAgICByZXNwb25zZTogewogICAgICBhY3Rpb246ICdjb21wbGV0ZScsCiAgICB9CiAgfTsKfQoKc2NvcGUuZ29vZ2xlID0gc2NvcGUuZ29vZ2xlIHx8IHt9OwpzY29wZS5nb29nbGUuY29sYWIgPSBzY29wZS5nb29nbGUuY29sYWIgfHwge307CnNjb3BlLmdvb2dsZS5jb2xhYi5fZmlsZXMgPSB7CiAgX3VwbG9hZEZpbGVzLAogIF91cGxvYWRGaWxlc0NvbnRpbnVlLAp9Owp9KShzZWxmKTsK",
              "ok": true,
              "headers": [
                [
                  "content-type",
                  "application/javascript"
                ]
              ],
              "status": 200,
              "status_text": ""
            }
          },
          "base_uri": "https://localhost:8080/",
          "height": 73
        },
        "id": "W33lkRkfxxvZ",
        "outputId": "22da5e97-7973-4c07-fe0a-e0766a14f3a0"
      },
      "source": [
        "from google.colab import files\n",
        "files.upload()\n",
        "!mkdir -p ~/.kaggle\n",
        "!cp kaggle.json ~/.kaggle/\n",
        "#change permission\n",
        "!chmod 600 ~/.kaggle/kaggle.json\n"
      ],
      "execution_count": null,
      "outputs": [
        {
          "output_type": "display_data",
          "data": {
            "text/html": [
              "\n",
              "     <input type=\"file\" id=\"files-477d601a-e7e6-4896-9d6d-2a23f0db7ae2\" name=\"files[]\" multiple disabled\n",
              "        style=\"border:none\" />\n",
              "     <output id=\"result-477d601a-e7e6-4896-9d6d-2a23f0db7ae2\">\n",
              "      Upload widget is only available when the cell has been executed in the\n",
              "      current browser session. Please rerun this cell to enable.\n",
              "      </output>\n",
              "      <script src=\"/nbextensions/google.colab/files.js\"></script> "
            ],
            "text/plain": [
              "<IPython.core.display.HTML object>"
            ]
          },
          "metadata": {
            "tags": []
          }
        },
        {
          "output_type": "stream",
          "text": [
            "Saving kaggle.json to kaggle.json\n"
          ],
          "name": "stdout"
        }
      ]
    },
    {
      "cell_type": "code",
      "metadata": {
        "colab": {
          "base_uri": "https://localhost:8080/"
        },
        "id": "VOV-Th3UxxUp",
        "outputId": "04e54a8f-9490-4c10-8b91-25e8ba52b402"
      },
      "source": [
        "!kaggle datasets download -d paultimothymooney/chest-xray-pneumonia"
      ],
      "execution_count": null,
      "outputs": [
        {
          "output_type": "stream",
          "text": [
            "Downloading chest-xray-pneumonia.zip to /content\n",
            " 99% 2.28G/2.29G [00:29<00:00, 62.5MB/s]\n",
            "100% 2.29G/2.29G [00:29<00:00, 83.3MB/s]\n"
          ],
          "name": "stdout"
        }
      ]
    },
    {
      "cell_type": "code",
      "metadata": {
        "id": "OjwFgIJIxwOZ"
      },
      "source": [
        "from zipfile import ZipFile\n",
        "file_name  = \"chest-xray-pneumonia.zip\""
      ],
      "execution_count": null,
      "outputs": []
    },
    {
      "cell_type": "code",
      "metadata": {
        "colab": {
          "base_uri": "https://localhost:8080/"
        },
        "id": "xf0SmhWTzl95",
        "outputId": "d14637ac-dd53-476b-e21b-5f479f57aaff"
      },
      "source": [
        "with ZipFile(file_name,'r') as zip:\n",
        "  zip.extractall()\n",
        "  print('Done')"
      ],
      "execution_count": null,
      "outputs": [
        {
          "output_type": "stream",
          "text": [
            "Done\n"
          ],
          "name": "stdout"
        }
      ]
    },
    {
      "cell_type": "code",
      "metadata": {
        "id": "3o3ENtpj1l44"
      },
      "source": [
        "import glob\n",
        "import numpy as np\n",
        "import pandas as pd\n",
        "import matplotlib.pyplot as plt\n",
        "import seaborn as sns\n",
        "import tensorflow as tf\n",
        "from tensorflow.keras.models import Sequential\n",
        "from tensorflow.keras.layers import Dense, Conv2D, MaxPool2D, Flatten, Dropout\n",
        "from tensorflow.keras.callbacks import ReduceLROnPlateau ,EarlyStopping,ModelCheckpoint\n",
        "from tensorflow.keras.preprocessing.image import ImageDataGenerator\n",
        "from sklearn.metrics import confusion_matrix\n",
        "from sklearn.model_selection import train_test_split\n",
        "\n",
        "%matplotlib inline\n",
        "import warnings\n",
        "warnings.filterwarnings('ignore')"
      ],
      "execution_count": null,
      "outputs": []
    },
    {
      "cell_type": "code",
      "metadata": {
        "id": "ct8G0908HoJV"
      },
      "source": [
        "image_size =180\n",
        "batch_size =64\n",
        "epochs =30"
      ],
      "execution_count": null,
      "outputs": []
    },
    {
      "cell_type": "code",
      "metadata": {
        "id": "YCOTPYzY0bR4"
      },
      "source": [
        "base_dir = '/content/chest_xray/'\n",
        "pneumonia_files = glob.glob(base_dir + '/**/PNEUMONIA/*.jpeg')\n",
        "normal_files = glob.glob(base_dir + '/**/NORMAL/*.jpeg')"
      ],
      "execution_count": null,
      "outputs": []
    },
    {
      "cell_type": "code",
      "metadata": {
        "colab": {
          "base_uri": "https://localhost:8080/"
        },
        "id": "R5dBmcXb0boY",
        "outputId": "f554e7c6-49c5-4964-b401-9ff7a523b712"
      },
      "source": [
        "print('pneumonia files : {}'.format(len(pneumonia_files)))\n",
        "print('normal_files : {}'.format(len(normal_files)))"
      ],
      "execution_count": null,
      "outputs": [
        {
          "output_type": "stream",
          "text": [
            "pneumonia files : 4273\n",
            "normal_files : 1583\n"
          ],
          "name": "stdout"
        }
      ]
    },
    {
      "cell_type": "code",
      "metadata": {
        "id": "tx2g0G0v0b3I"
      },
      "source": [
        "# Data Splitting \n",
        "train_pneumonia , test_pneumonia = train_test_split(pneumonia_files,test_size = 0.2)\n",
        "train_pneumonia , val_pneumonia = train_test_split(train_pneumonia,test_size =0.2)"
      ],
      "execution_count": null,
      "outputs": []
    },
    {
      "cell_type": "code",
      "metadata": {
        "id": "-_Iz9AkZ3qbn"
      },
      "source": [
        "train_normal, test_normal = train_test_split(normal_files , test_size = 0.2)\n",
        "train_normal , val_normal = train_test_split(train_normal , test_size = 0.2)"
      ],
      "execution_count": null,
      "outputs": []
    },
    {
      "cell_type": "code",
      "metadata": {
        "colab": {
          "base_uri": "https://localhost:8080/"
        },
        "id": "5vLccPFV3q13",
        "outputId": "cfb228b4-d00a-4ae7-bfac-9caeabe4c380"
      },
      "source": [
        "print('Pneumonia files have {0} training examples ,{1} testing examples ,{2} validation examples'.format(len(train_pneumonia),len(test_pneumonia),len(val_pneumonia)))\n",
        "print('Normal files have {0} training examples ,{1} testing examples ,{2} validation examples'.format(len(train_normal),len(test_normal),len(val_normal)))"
      ],
      "execution_count": null,
      "outputs": [
        {
          "output_type": "stream",
          "text": [
            "Pneumonia files have 2734 training examples ,855 testing examples ,684 validation examples\n",
            "Normal files have 1012 training examples ,317 testing examples ,254 validation examples\n"
          ],
          "name": "stdout"
        }
      ]
    },
    {
      "cell_type": "code",
      "metadata": {
        "id": "5d_zqzuI39-4"
      },
      "source": [
        ""
      ],
      "execution_count": null,
      "outputs": []
    },
    {
      "cell_type": "code",
      "metadata": {
        "colab": {
          "base_uri": "https://localhost:8080/"
        },
        "id": "JIa0M2Xp8PB3",
        "outputId": "021ee887-6b8a-448b-df0f-38c70d94d9c6"
      },
      "source": [
        "# adding labels (pneumonia: 1, normal: 0)\n",
        "train_data = []\n",
        "val_data = []\n",
        "test_data = []\n",
        "\n",
        "for sample in train_pneumonia:\n",
        "    train_data.append([sample, '1'])\n",
        "\n",
        "for sample in val_pneumonia:\n",
        "    val_data.append([sample, '1'])\n",
        "    \n",
        "for sample in test_pneumonia:\n",
        "    test_data.append([sample, '1'])\n",
        "    \n",
        "for sample in train_normal:\n",
        "    train_data.append([sample, '0'])\n",
        "    \n",
        "for sample in val_normal:\n",
        "    val_data.append([sample, '0'])\n",
        "    \n",
        "for sample in test_normal:\n",
        "    test_data.append([sample, '0'])\n",
        "    \n",
        "# convert them into dataframes\n",
        "train_df = pd.DataFrame(train_data, columns=['image', 'label'])\n",
        "val_df = pd.DataFrame(val_data, columns=['image', 'label'])\n",
        "test_df = pd.DataFrame(test_data, columns=['image', 'label'])\n",
        "\n",
        "print(len(train_df), len(val_df), len(test_df))"
      ],
      "execution_count": null,
      "outputs": [
        {
          "output_type": "stream",
          "text": [
            "3746 938 1172\n"
          ],
          "name": "stdout"
        }
      ]
    },
    {
      "cell_type": "code",
      "metadata": {
        "id": "ShpMOyn3BD6J"
      },
      "source": [
        "train_img_gen = ImageDataGenerator(rescale=1./255,\n",
        "                                   rotation_range =10,\n",
        "                                   zoom_range =0.2,\n",
        "                                   width_shift_range =0.1,\n",
        "                                   height_shift_range =0.1)\n",
        "\n",
        "test_img_gen = ImageDataGenerator(\n",
        "    rescale=1./255\n",
        ")\n",
        "\n",
        "val_img_gen = ImageDataGenerator(\n",
        "    rescale =1./255\n",
        ")"
      ],
      "execution_count": null,
      "outputs": []
    },
    {
      "cell_type": "code",
      "metadata": {
        "colab": {
          "base_uri": "https://localhost:8080/"
        },
        "id": "q8R1bsqWBEO2",
        "outputId": "41f87b4e-1a7e-4447-ddd5-d8ee52c0240e"
      },
      "source": [
        "train_set_gen = train_img_gen.flow_from_dataframe(train_df,x_col = 'image',y_col ='label',target_size=(image_size,image_size),batch_size=batch_size,shuffle =True ,class_mode ='binary',color_mode='grayscale')\n",
        "test_set_gen  = test_img_gen.flow_from_dataframe(test_df,x_col = 'image',y_col = 'label',target_size= (image_size,image_size),batch_size=1,class_mode='binary',shuffle =False,color_mode='grayscale')\n",
        "val_set_gen = val_img_gen.flow_from_dataframe(val_df,x_col = 'image',y_col ='label',target_size=(image_size,image_size),batch_size =batch_size,shuffle=True,class_mode='binary',color_mode ='grayscale')"
      ],
      "execution_count": null,
      "outputs": [
        {
          "output_type": "stream",
          "text": [
            "Found 3746 validated image filenames belonging to 2 classes.\n",
            "Found 1172 validated image filenames belonging to 2 classes.\n",
            "Found 938 validated image filenames belonging to 2 classes.\n"
          ],
          "name": "stdout"
        }
      ]
    },
    {
      "cell_type": "code",
      "metadata": {
        "id": "vYJeSfRCBEaG"
      },
      "source": [
        "model = tf.keras.models.Sequential([\n",
        "                                    tf.keras.layers.Conv2D(32,(3,3),input_shape = (180,180,1),activation='relu',padding ='same'),\n",
        "                                    tf.keras.layers.MaxPooling2D(2,2),\n",
        "                                    tf.keras.layers.Conv2D(32,(3,3),activation='relu',padding='same'),\n",
        "                                    tf.keras.layers.MaxPooling2D((2,2)),\n",
        "                                    tf.keras.layers.Conv2D(64,(3,3),activation='relu',padding='same'),\n",
        "                                    tf.keras.layers.MaxPooling2D((2,2)),\n",
        "                                    tf.keras.layers.Dropout(0.2),\n",
        "                                    tf.keras.layers.Conv2D(64,(3,3),activation='relu',padding='same'),\n",
        "                                    tf.keras.layers.MaxPooling2D((2,2)),\n",
        "                                    tf.keras.layers.Dropout(0.3),\n",
        "                                    tf.keras.layers.Flatten(),\n",
        "                                    tf.keras.layers.Dense(64,activation = 'relu'),\n",
        "                                    tf.keras.layers.Dropout(0.5),\n",
        "                                    tf.keras.layers.Dense(1,activation = 'sigmoid'),\n",
        "])"
      ],
      "execution_count": null,
      "outputs": []
    },
    {
      "cell_type": "code",
      "metadata": {
        "id": "dqbkxWdVTd6T"
      },
      "source": [
        ""
      ],
      "execution_count": null,
      "outputs": []
    },
    {
      "cell_type": "code",
      "metadata": {
        "id": "MHdndJ6SUjsR"
      },
      "source": [
        "#METRICS =[tf.keras.metrics.BinaryAccuracy(),tf.keras.metrics.Accuracy(),tf.keras.metrics.Precision(name = 'precision'),tf.keras.metrics.Recall(name ='recall')]"
      ],
      "execution_count": null,
      "outputs": []
    },
    {
      "cell_type": "code",
      "metadata": {
        "id": "Wzuur1DBBEem"
      },
      "source": [
        "model.compile(optimizer = 'adam',loss = 'binary_crossentropy',metrics=['accuracy'])"
      ],
      "execution_count": null,
      "outputs": []
    },
    {
      "cell_type": "code",
      "metadata": {
        "id": "z6WrGy_LqBXV"
      },
      "source": [
        "lr_reduction = ReduceLROnPlateau(monitor='val_accuracy', patience = 3, \n",
        "                                 verbose=1,factor=0.5, min_lr=0.000001)"
      ],
      "execution_count": null,
      "outputs": []
    },
    {
      "cell_type": "code",
      "metadata": {
        "colab": {
          "base_uri": "https://localhost:8080/"
        },
        "id": "Js2-Nn56q3LK",
        "outputId": "5c14f9fe-2501-4474-c3e6-2a7e51685f5b"
      },
      "source": [
        "history = model.fit_generator(train_set_gen,\n",
        "                              steps_per_epoch=len(train_set_gen),\n",
        "                              epochs=epochs,\n",
        "                              validation_data=val_set_gen,\n",
        "                              validation_steps=len(val_set_gen),\n",
        "                              callbacks=[lr_reduction])"
      ],
      "execution_count": null,
      "outputs": [
        {
          "output_type": "stream",
          "text": [
            "Epoch 1/30\n",
            "59/59 [==============================] - 44s 745ms/step - loss: 0.4022 - accuracy: 0.7723 - val_loss: 0.3462 - val_accuracy: 0.8635\n",
            "Epoch 2/30\n",
            "59/59 [==============================] - 43s 727ms/step - loss: 0.3395 - accuracy: 0.8449 - val_loss: 0.2884 - val_accuracy: 0.8849\n",
            "Epoch 3/30\n",
            "59/59 [==============================] - 43s 728ms/step - loss: 0.3324 - accuracy: 0.8580 - val_loss: 0.2563 - val_accuracy: 0.9296\n",
            "Epoch 4/30\n",
            "59/59 [==============================] - 43s 725ms/step - loss: 0.3145 - accuracy: 0.8716 - val_loss: 0.3090 - val_accuracy: 0.8539\n",
            "Epoch 5/30\n",
            "59/59 [==============================] - 43s 724ms/step - loss: 0.2880 - accuracy: 0.8905 - val_loss: 0.2152 - val_accuracy: 0.9339\n",
            "Epoch 6/30\n",
            "59/59 [==============================] - 43s 725ms/step - loss: 0.2844 - accuracy: 0.8900 - val_loss: 0.2012 - val_accuracy: 0.9350\n",
            "Epoch 7/30\n",
            "59/59 [==============================] - 43s 727ms/step - loss: 0.2628 - accuracy: 0.9031 - val_loss: 0.2144 - val_accuracy: 0.9360\n",
            "Epoch 8/30\n",
            "59/59 [==============================] - 43s 727ms/step - loss: 0.2822 - accuracy: 0.8954 - val_loss: 0.2754 - val_accuracy: 0.8827\n",
            "Epoch 9/30\n",
            "59/59 [==============================] - 43s 725ms/step - loss: 0.2685 - accuracy: 0.9071 - val_loss: 0.2071 - val_accuracy: 0.9286\n",
            "Epoch 10/30\n",
            "59/59 [==============================] - 43s 728ms/step - loss: 0.2668 - accuracy: 0.9055 - val_loss: 0.1843 - val_accuracy: 0.9371\n",
            "Epoch 11/30\n",
            "59/59 [==============================] - 43s 729ms/step - loss: 0.2413 - accuracy: 0.9204 - val_loss: 0.2532 - val_accuracy: 0.8934\n",
            "Epoch 12/30\n",
            "59/59 [==============================] - 43s 726ms/step - loss: 0.2363 - accuracy: 0.9170 - val_loss: 0.2080 - val_accuracy: 0.9104\n",
            "Epoch 13/30\n",
            "59/59 [==============================] - 43s 726ms/step - loss: 0.2325 - accuracy: 0.9186 - val_loss: 0.2855 - val_accuracy: 0.8859\n",
            "\n",
            "Epoch 00013: ReduceLROnPlateau reducing learning rate to 0.0005000000237487257.\n",
            "Epoch 14/30\n",
            "59/59 [==============================] - 43s 725ms/step - loss: 0.2217 - accuracy: 0.9285 - val_loss: 0.1716 - val_accuracy: 0.9414\n",
            "Epoch 15/30\n",
            "59/59 [==============================] - 43s 727ms/step - loss: 0.2188 - accuracy: 0.9287 - val_loss: 0.1628 - val_accuracy: 0.9510\n",
            "Epoch 16/30\n",
            "59/59 [==============================] - 43s 726ms/step - loss: 0.2141 - accuracy: 0.9357 - val_loss: 0.1926 - val_accuracy: 0.9360\n",
            "Epoch 17/30\n",
            "59/59 [==============================] - 43s 726ms/step - loss: 0.2107 - accuracy: 0.9349 - val_loss: 0.1897 - val_accuracy: 0.9222\n",
            "Epoch 18/30\n",
            "59/59 [==============================] - 43s 726ms/step - loss: 0.2105 - accuracy: 0.9322 - val_loss: 0.1596 - val_accuracy: 0.9467\n",
            "\n",
            "Epoch 00018: ReduceLROnPlateau reducing learning rate to 0.0002500000118743628.\n",
            "Epoch 19/30\n",
            "59/59 [==============================] - 43s 726ms/step - loss: 0.2063 - accuracy: 0.9381 - val_loss: 0.1994 - val_accuracy: 0.9190\n",
            "Epoch 20/30\n",
            "59/59 [==============================] - 43s 730ms/step - loss: 0.2036 - accuracy: 0.9343 - val_loss: 0.1801 - val_accuracy: 0.9243\n",
            "Epoch 21/30\n",
            "59/59 [==============================] - 43s 725ms/step - loss: 0.1969 - accuracy: 0.9397 - val_loss: 0.1768 - val_accuracy: 0.9382\n",
            "\n",
            "Epoch 00021: ReduceLROnPlateau reducing learning rate to 0.0001250000059371814.\n",
            "Epoch 22/30\n",
            "59/59 [==============================] - 43s 726ms/step - loss: 0.2044 - accuracy: 0.9370 - val_loss: 0.1572 - val_accuracy: 0.9510\n",
            "Epoch 23/30\n",
            "59/59 [==============================] - 43s 727ms/step - loss: 0.1854 - accuracy: 0.9423 - val_loss: 0.1782 - val_accuracy: 0.9328\n",
            "Epoch 24/30\n",
            "59/59 [==============================] - 43s 728ms/step - loss: 0.1986 - accuracy: 0.9415 - val_loss: 0.1626 - val_accuracy: 0.9467\n",
            "\n",
            "Epoch 00024: ReduceLROnPlateau reducing learning rate to 6.25000029685907e-05.\n",
            "Epoch 25/30\n",
            "59/59 [==============================] - 43s 722ms/step - loss: 0.1990 - accuracy: 0.9455 - val_loss: 0.1628 - val_accuracy: 0.9467\n",
            "Epoch 26/30\n",
            "59/59 [==============================] - 43s 726ms/step - loss: 0.1895 - accuracy: 0.9447 - val_loss: 0.1541 - val_accuracy: 0.9456\n",
            "Epoch 27/30\n",
            "59/59 [==============================] - 43s 728ms/step - loss: 0.1901 - accuracy: 0.9434 - val_loss: 0.1694 - val_accuracy: 0.9350\n",
            "\n",
            "Epoch 00027: ReduceLROnPlateau reducing learning rate to 3.125000148429535e-05.\n",
            "Epoch 28/30\n",
            "59/59 [==============================] - 43s 726ms/step - loss: 0.1824 - accuracy: 0.9463 - val_loss: 0.1562 - val_accuracy: 0.9478\n",
            "Epoch 29/30\n",
            "59/59 [==============================] - 43s 726ms/step - loss: 0.1924 - accuracy: 0.9445 - val_loss: 0.1553 - val_accuracy: 0.9488\n",
            "Epoch 30/30\n",
            "59/59 [==============================] - 43s 728ms/step - loss: 0.1874 - accuracy: 0.9442 - val_loss: 0.1706 - val_accuracy: 0.9360\n",
            "\n",
            "Epoch 00030: ReduceLROnPlateau reducing learning rate to 1.5625000742147677e-05.\n"
          ],
          "name": "stdout"
        }
      ]
    },
    {
      "cell_type": "code",
      "metadata": {
        "colab": {
          "base_uri": "https://localhost:8080/"
        },
        "id": "HfsFhdimxfM0",
        "outputId": "95bbbc26-9a7d-4a5f-9b4e-fc9022713364"
      },
      "source": [
        "Predict_score  = model.evaluate(test_set_gen)\n",
        "print(Predict_score)"
      ],
      "execution_count": null,
      "outputs": [
        {
          "output_type": "stream",
          "text": [
            "1172/1172 [==============================] - 12s 10ms/step - loss: 0.1854 - accuracy: 0.9275\n",
            "[0.18535558879375458, 0.9274743795394897]\n"
          ],
          "name": "stdout"
        }
      ]
    },
    {
      "cell_type": "code",
      "metadata": {
        "id": "icdAr9vz3pln"
      },
      "source": [
        "model.save('Cnn_xray_103.h5')"
      ],
      "execution_count": null,
      "outputs": []
    },
    {
      "cell_type": "code",
      "metadata": {
        "id": "pCv0cpY7BEjm"
      },
      "source": [
        "model.save_weights('Cnn_xray_103_weights.h5')"
      ],
      "execution_count": null,
      "outputs": []
    },
    {
      "cell_type": "code",
      "metadata": {
        "id": "NTE1o4tdBEnY"
      },
      "source": [
        "model_json = model.to_json()\n",
        "with open(\"Cnn_xray_103.json\", \"w\") as json_file:\n",
        "    json_file.write(model_json)"
      ],
      "execution_count": null,
      "outputs": []
    },
    {
      "cell_type": "code",
      "metadata": {
        "id": "3frOLTwgBEq3"
      },
      "source": [
        "predictions = model.predict_classes(test_set_gen)\n",
        "\n",
        "cm = confusion_matrix(test_set_gen.classes, predictions)"
      ],
      "execution_count": null,
      "outputs": []
    },
    {
      "cell_type": "code",
      "metadata": {
        "id": "IHqeRDz-wn2M"
      },
      "source": [
        "cm_pd = pd.DataFrame(cm , index = ['0','1'] , columns = ['0','1'])"
      ],
      "execution_count": null,
      "outputs": []
    },
    {
      "cell_type": "code",
      "metadata": {
        "colab": {
          "base_uri": "https://localhost:8080/",
          "height": 320
        },
        "id": "EUPfpkBAwFAE",
        "outputId": "1b7c599e-455c-4b05-af08-a3ee4b8f3095"
      },
      "source": [
        "plt.figure(figsize = (6,5))\n",
        "sns.heatmap(cm_pd,cmap= \"Blues\", linecolor = 'black' , \n",
        "            linewidth = 1 , annot = True, fmt='',\n",
        "            xticklabels = ['Predicted Normal', 'Predicted Pneumonia'],\n",
        "            yticklabels = ['Actual Normal', 'Actual Pneumonia'])\n",
        "plt.yticks(rotation=0)\n",
        "plt.show()"
      ],
      "execution_count": null,
      "outputs": [
        {
          "output_type": "display_data",
          "data": {
            "image/png": "[encoded data removed]",
            "text/plain": [
              "<Figure size 432x360 with 2 Axes>"
            ]
          },
          "metadata": {
            "tags": [],
            "needs_background": "light"
          }
        }
      ]
    },
    {
      "cell_type": "code",
      "metadata": {
        "id": "EExwbu96wkes"
      },
      "source": [
        ""
      ],
      "execution_count": null,
      "outputs": []
    }
  ]
}